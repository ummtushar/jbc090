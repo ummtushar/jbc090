{
 "cells": [
  {
   "cell_type": "markdown",
   "metadata": {},
   "source": [
    "# Loading the Data"
   ]
  },
  {
   "cell_type": "code",
   "execution_count": null,
   "metadata": {},
   "outputs": [],
   "source": [
    "import pandas as pd\n",
    "\n",
    "df_birth_year = pd.read_csv(\"../data/birth_year.csv\", delimiter = \",\")\n",
    "\n",
    "df_birth_year"
   ]
  },
  {
   "cell_type": "code",
   "execution_count": null,
   "metadata": {},
   "outputs": [],
   "source": [
    "df_extrovert_introvert = pd.read_csv(\"../data/extrovert_introvert.csv\")\n",
    "\n",
    "df_extrovert_introvert"
   ]
  },
  {
   "cell_type": "code",
   "execution_count": null,
   "metadata": {},
   "outputs": [],
   "source": [
    "df_feeling_thinking = pd.read_csv(\"../data/feeling_thinking.csv\")\n",
    "\n",
    "df_feeling_thinking"
   ]
  },
  {
   "cell_type": "code",
   "execution_count": null,
   "metadata": {},
   "outputs": [],
   "source": [
    "df_gender = pd.read_csv(\"../data/gender.csv\")\n",
    "\n",
    "df_gender"
   ]
  },
  {
   "cell_type": "code",
   "execution_count": null,
   "metadata": {},
   "outputs": [],
   "source": [
    "df_judging_perceiving = pd.read_csv(\"../data/judging_perceiving.csv\")\n",
    "\n",
    "df_judging_perceiving"
   ]
  },
  {
   "cell_type": "code",
   "execution_count": null,
   "metadata": {},
   "outputs": [],
   "source": [
    "df_nationality = pd.read_csv(\"../data/nationality.csv\")\n",
    "\n",
    "df_nationality"
   ]
  },
  {
   "cell_type": "code",
   "execution_count": null,
   "metadata": {},
   "outputs": [],
   "source": [
    "df_political_leaning = pd.read_csv(\"../data/political_leaning.csv\")\n",
    "\n",
    "df_political_leaning"
   ]
  },
  {
   "cell_type": "code",
   "execution_count": null,
   "metadata": {},
   "outputs": [],
   "source": [
    "df_sensing_intuitive = pd.read_csv(\"../data/sensing_intuitive.csv\")\n",
    "\n",
    "df_sensing_intuitive"
   ]
  },
  {
   "cell_type": "markdown",
   "metadata": {},
   "source": [
    "# Scrubber on Gender Dataset"
   ]
  },
  {
   "cell_type": "code",
   "execution_count": null,
   "metadata": {},
   "outputs": [],
   "source": [
    "%pip install scrubadub-spacy -q"
   ]
  },
  {
   "cell_type": "code",
   "execution_count": null,
   "metadata": {},
   "outputs": [],
   "source": [
    "!python -m spacy download en_core_web_sm"
   ]
  },
  {
   "cell_type": "code",
   "execution_count": null,
   "metadata": {},
   "outputs": [],
   "source": [
    "import scrubadub_spacy, scrubadub\n",
    "import spacy\n",
    "\n",
    "# Load the spaCy model\n",
    "nlp = spacy.load(\"en_core_web_sm\")\n",
    "\n",
    "def scrubber(df):\n",
    "    scrubber = scrubadub.Scrubber()\n",
    "    \n",
    "    # Add the SpacyEntityDetector with the loaded model\n",
    "    scrubber.add_detector(scrubadub_spacy.detectors.SpacyEntityDetector(model=\"en_core_web_sm\"))\n",
    "\n",
    "    for index, row in df.iterrows():\n",
    "        text = row['post']\n",
    "        result = scrubber.clean(text)\n",
    "        df.at[index, 'post'] = result\n",
    "\n",
    "    return df\n",
    "\n",
    "df_gender = scrubber(df_gender)\n",
    "\n",
    "df_gender"
   ]
  },
  {
   "cell_type": "markdown",
   "metadata": {},
   "source": [
    "# Gender Swapping on Scrubbed Dataset"
   ]
  },
  {
   "cell_type": "code",
   "execution_count": null,
   "metadata": {},
   "outputs": [],
   "source": [
    "def gender_swap(df):\n",
    "    def change_gender(string):\n",
    "        # A Dictionary to store the mapping of genders\n",
    "        # The user can add his words too.\n",
    "        dictionary = {\n",
    "            \"batman\": \"batwoman\", \"batwoman\": \"batman\",\n",
    "            \"boy\": \"girl\", \"girl\": \"boy\",\n",
    "            \"boyfriend\": \"girlfriend\", \"girlfriend\": \"boyfriend\",\n",
    "            \"father\": \"mother\", \"mother\": \"father\",\n",
    "            \"husband\": \"wife\", \"wife\": \"husband\",\n",
    "            \"he\": \"she\", \"she\": \"he\",\n",
    "            \"his\": \"her\", \"her\": \"his\",\n",
    "            \"male\": \"female\", \"female\": \"male\",\n",
    "            \"man\": \"woman\", \"woman\": \"man\",\n",
    "            \"Mr\": \"Ms\", \"Ms\": \"Mr\",\n",
    "            \"sir\": \"madam\", \"madam\": \"sir\",\n",
    "            \"son\": \"daughter\", \"daughter\": \"son\",\n",
    "            \"uncle\": \"aunt\", \"aunt\": \"uncle\",\n",
    "        }\n",
    "     \n",
    "        string += ' '  # Append a space at the end\n",
    "     \n",
    "        n = len(string)\n",
    "     \n",
    "        # 'temp' string will hold the intermediate words\n",
    "        # and 'ans' string will be our result\n",
    "        temp = \"\"\n",
    "        ans = \"\"\n",
    "     \n",
    "        for i in range(n):\n",
    "            if string[i] != ' ':\n",
    "                temp += string[i]\n",
    "            else:\n",
    "                # If this is a 'male' or a 'female' word then\n",
    "                # swap this with its counterpart\n",
    "                if temp in dictionary:\n",
    "                    temp = dictionary[temp]\n",
    "     \n",
    "                ans += temp + ' '\n",
    "                temp = \"\"\n",
    "     \n",
    "        return ans\n",
    "\n",
    "    for index, row in df.iterrows():\n",
    "        df.at[index, 'post'] = change_gender(row['post'])\n",
    "\n",
    "    return df\n",
    "\n",
    "df_gender = gender_swap(df_gender)\n",
    "\n",
    "df_gender"
   ]
  },
  {
   "cell_type": "code",
   "execution_count": 6,
   "metadata": {},
   "outputs": [],
   "source": [
    "df_gender.to_csv(\"./data/df_gender_augmented.csv\", index=False)"
   ]
  },
  {
   "cell_type": "markdown",
   "metadata": {},
   "source": [
    "# Probabilistic Classifier on Augemented Data"
   ]
  },
  {
   "cell_type": "code",
   "execution_count": null,
   "metadata": {},
   "outputs": [],
   "source": [
    "from sklearn.feature_extraction.text import TfidfVectorizer\n",
    "from sklearn.model_selection import train_test_split\n",
    "from sklearn.svm import SVC\n",
    "from sklearn.naive_bayes import MultinomialNB\n",
    "from sklearn.neighbors import KNeighborsClassifier\n",
    "from sklearn.metrics import accuracy_score\n",
    "import numpy as np\n",
    "from scipy.spatial import distance\n",
    "\n",
    "df_gender_augmented = pd.read_csv(\"../data/df_gender_augmented.csv\")\n",
    "\n",
    "# Vectorize the text data\n",
    "vectorizer = TfidfVectorizer(max_features=5000)\n",
    "X = vectorizer.fit_transform(df_gender_augmented['post'])\n",
    "y = df_gender_augmented['female']\n",
    "\n",
    "# Split the data into training and testing sets\n",
    "X_train, X_test, y_train, y_test = train_test_split(X, y, test_size=0.2, random_state=42)\n",
    "\n",
    "def train_svm(X_train, y_train, X_test, y_test):\n",
    "    # Train a Support Vector Machine model\n",
    "    model = SVC(kernel='linear')\n",
    "    model.fit(X_train, y_train)\n",
    "\n",
    "    # Evaluate the model\n",
    "    y_pred = model.predict(X_test)\n",
    "    print(f\"SVM Accuracy: {accuracy_score(y_test, y_pred)}\")\n",
    "\n",
    "    return model\n",
    "\n",
    "def train_naive_bayes(X_train, y_train, X_test, y_test):\n",
    "    # Train a Naive Bayes model\n",
    "    model = MultinomialNB()\n",
    "    model.fit(X_train, y_train)\n",
    "\n",
    "    # Evaluate the model\n",
    "    y_pred = model.predict(X_test)\n",
    "    print(f\"Naive Bayes Accuracy: {accuracy_score(y_test, y_pred)}\")\n",
    "\n",
    "    return model\n",
    "\n",
    "\n",
    "def train_knn(X_train, y_train, X_test, y_test, k=5):\n",
    "    # Store the complete training matrix in memory\n",
    "    X_train = X_train.toarray()\n",
    "    X_test = X_test.toarray()\n",
    "    \n",
    "    def knn_predict(X_train, y_train, x, k):\n",
    "        # Calculate distance metric between x and all X_train\n",
    "        dists = distance.cdist([x], X_train, 'euclidean')[0]\n",
    "        \n",
    "        # Choose the vectors from X_train with the highest similarity to x\n",
    "        nearest_indices = np.argsort(dists)[:k]\n",
    "        \n",
    "        # Look up the labels for these vectors, take majority label\n",
    "        nearest_labels = y_train[nearest_indices]\n",
    "        majority_label = np.bincount(nearest_labels).argmax()\n",
    "        \n",
    "        return majority_label\n",
    "    \n",
    "    # Evaluate the model\n",
    "    y_pred = np.array([knn_predict(X_train, y_train, x, k) for x in X_test])\n",
    "    print(f\"KNN Accuracy: {accuracy_score(y_test, y_pred)}\")\n",
    "    \n",
    "    return y_pred\n",
    "\n",
    "# Train models\n",
    "svm_model = train_svm(X_train, y_train, X_test, y_test)\n",
    "nb_model = train_naive_bayes(X_train, y_train, X_test, y_test)\n",
    "knn_model = train_knn(X_train, y_train, X_test, y_test)\n",
    "\n",
    "# Test the SVM model with a custom input\n",
    "test_input = [\"hey girl, you got this!\"]\n",
    "test_input_vectorized = vectorizer.transform(test_input)\n",
    "svm_prediction = svm_model.predict(test_input_vectorized)\n",
    "\n",
    "# Check if the SVM model detects a female\n",
    "print(f\"SVM Prediction for 'hey girl, you got this!': {svm_prediction[0]}\")\n",
    "\n",
    "\n"
   ]
  }
 ],
 "metadata": {
  "kernelspec": {
   "display_name": "Python 3",
   "language": "python",
   "name": "python3"
  },
  "language_info": {
   "codemirror_mode": {
    "name": "ipython",
    "version": 3
   },
   "file_extension": ".py",
   "mimetype": "text/x-python",
   "name": "python",
   "nbconvert_exporter": "python",
   "pygments_lexer": "ipython3",
   "version": "3.11.10"
  }
 },
 "nbformat": 4,
 "nbformat_minor": 2
}
